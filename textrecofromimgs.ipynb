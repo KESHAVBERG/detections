{
  "nbformat": 4,
  "nbformat_minor": 0,
  "metadata": {
    "colab": {
      "name": "textrecofromimgs.ipynb",
      "provenance": [],
      "include_colab_link": true
    },
    "kernelspec": {
      "name": "python3",
      "display_name": "Python 3"
    }
  },
  "cells": [
    {
      "cell_type": "markdown",
      "metadata": {
        "id": "view-in-github",
        "colab_type": "text"
      },
      "source": [
        "<a href=\"https://colab.research.google.com/github/KESHAVBERG/detections/blob/main/textrecofromimgs.ipynb\" target=\"_parent\"><img src=\"https://colab.research.google.com/assets/colab-badge.svg\" alt=\"Open In Colab\"/></a>"
      ]
    },
    {
      "cell_type": "code",
      "metadata": {
        "id": "Onaf7IfCs7r-",
        "colab": {
          "base_uri": "https://localhost:8080/"
        },
        "outputId": "9bed63c0-fa87-47e4-cc8f-7ab7ec9c2401"
      },
      "source": [
        "!sudo apt install tesseract-ocr\r\n",
        "\r\n",
        "!pip install pytesseract\r\n"
      ],
      "execution_count": 71,
      "outputs": [
        {
          "output_type": "stream",
          "text": [
            "Reading package lists... Done\n",
            "Building dependency tree       \n",
            "Reading state information... Done\n",
            "tesseract-ocr is already the newest version (4.00~git2288-10f4998a-2).\n",
            "0 upgraded, 0 newly installed, 0 to remove and 16 not upgraded.\n",
            "Requirement already satisfied: pytesseract in /usr/local/lib/python3.6/dist-packages (0.3.7)\n",
            "Requirement already satisfied: Pillow in /usr/local/lib/python3.6/dist-packages (from pytesseract) (7.0.0)\n"
          ],
          "name": "stdout"
        }
      ]
    },
    {
      "cell_type": "code",
      "metadata": {
        "id": "OdhNgpNVxt4V"
      },
      "source": [
        "import cv2\r\n",
        "import pytesseract"
      ],
      "execution_count": 72,
      "outputs": []
    },
    {
      "cell_type": "code",
      "metadata": {
        "id": "iHNdoM6C1pEq",
        "colab": {
          "base_uri": "https://localhost:8080/"
        },
        "outputId": "27de2c18-d986-473c-af1d-b43e2f76f59c"
      },
      "source": [
        "!which tesseract\r\n"
      ],
      "execution_count": 73,
      "outputs": [
        {
          "output_type": "stream",
          "text": [
            "/usr/bin/tesseract\n"
          ],
          "name": "stdout"
        }
      ]
    },
    {
      "cell_type": "code",
      "metadata": {
        "id": "5avFW-3wx_p4"
      },
      "source": [
        "pytesseract.pytesseract.tesseract_cmd = '/usr/bin/tesseract'\r\n"
      ],
      "execution_count": 74,
      "outputs": []
    },
    {
      "cell_type": "code",
      "metadata": {
        "id": "ALh0-vqYyjZq"
      },
      "source": [
        "img = cv2.imread(\"i.png\") \r\n",
        "gray = cv2.cvtColor(img, cv2.COLOR_BGR2GRAY) \r\n",
        "ret, thresh1 = cv2.threshold(gray, 0, 255, cv2.THRESH_OTSU | cv2.THRESH_BINARY_INV) \r\n",
        "\r\n",
        "\r\n"
      ],
      "execution_count": 75,
      "outputs": []
    },
    {
      "cell_type": "code",
      "metadata": {
        "id": "FVwIDRkryouY"
      },
      "source": [
        "rect_kernel = cv2.getStructuringElement(cv2.MORPH_RECT, (18, 18)) \r\n",
        "dilation = cv2.dilate(thresh1, rect_kernel, iterations = 1) \r\n"
      ],
      "execution_count": 76,
      "outputs": []
    },
    {
      "cell_type": "code",
      "metadata": {
        "id": "BSHc7onRy7Go"
      },
      "source": [
        "contours, hierarchy = cv2.findContours(dilation, cv2.RETR_EXTERNAL, cv2.CHAIN_APPROX_NONE) \r\n",
        " \r\n"
      ],
      "execution_count": 77,
      "outputs": []
    },
    {
      "cell_type": "code",
      "metadata": {
        "id": "4stTCNwsy9Ag"
      },
      "source": [
        "f = open(\"reco.txt\",\"w\")\r\n",
        "f.write(\"\")\r\n",
        "f.close()"
      ],
      "execution_count": 78,
      "outputs": []
    },
    {
      "cell_type": "code",
      "metadata": {
        "id": "tiWt2QNozOeY"
      },
      "source": [
        "for cnt in contours: \r\n",
        "    x, y, w, h = cv2.boundingRect(cnt) \r\n",
        "      \r\n",
        "    rect = cv2.rectangle(img, (x, y), (x + w, y + h), (0, 255, 0), 2) \r\n",
        "      \r\n",
        "    cropped = img[y:y + h, x:x + w] \r\n",
        "      \r\n",
        "    file = open(\"reco.txt\", \"a\") \r\n",
        "      \r\n",
        "    text = pytesseract.image_to_string(cropped) \r\n",
        "    file.write(text) \r\n",
        "    file.write(\"\\n\") \r\n",
        "    file.close "
      ],
      "execution_count": 79,
      "outputs": []
    },
    {
      "cell_type": "code",
      "metadata": {
        "id": "HQKoDGYj0hsD"
      },
      "source": [
        ""
      ],
      "execution_count": 79,
      "outputs": []
    }
  ]
}